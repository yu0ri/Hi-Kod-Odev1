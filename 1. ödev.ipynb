{
 "cells": [
  {
   "cell_type": "code",
   "execution_count": 175,
   "id": "aa33a763-4a94-4001-8baf-7b1598a3b767",
   "metadata": {},
   "outputs": [],
   "source": [
    "#ödev1"
   ]
  },
  {
   "cell_type": "code",
   "execution_count": 176,
   "id": "78907f95-2a83-4426-bf07-868eb76decfb",
   "metadata": {},
   "outputs": [
    {
     "name": "stdout",
     "output_type": "stream",
     "text": [
      "3\n"
     ]
    }
   ],
   "source": [
    "x = 3\n",
    "print(x)"
   ]
  },
  {
   "cell_type": "code",
   "execution_count": 177,
   "id": "dc0e4866-ea4f-4098-af34-3ff87dc84bf6",
   "metadata": {},
   "outputs": [
    {
     "name": "stdout",
     "output_type": "stream",
     "text": [
      "<class 'int'>\n"
     ]
    }
   ],
   "source": [
    "print(type(x))"
   ]
  },
  {
   "cell_type": "code",
   "execution_count": 178,
   "id": "9ba41f64-916a-43cf-8791-2bea10659946",
   "metadata": {},
   "outputs": [],
   "source": [
    "x = float(3)"
   ]
  },
  {
   "cell_type": "code",
   "execution_count": 179,
   "id": "cf143de5-c3a5-413b-9215-510e28f9bc32",
   "metadata": {},
   "outputs": [
    {
     "name": "stdout",
     "output_type": "stream",
     "text": [
      "3.0\n"
     ]
    }
   ],
   "source": [
    "print(x)"
   ]
  },
  {
   "cell_type": "code",
   "execution_count": 180,
   "id": "a42ca052-cee1-462a-929e-472e76ad5219",
   "metadata": {},
   "outputs": [
    {
     "name": "stdout",
     "output_type": "stream",
     "text": [
      "<class 'float'>\n"
     ]
    }
   ],
   "source": [
    "print(type(x))"
   ]
  },
  {
   "cell_type": "code",
   "execution_count": 181,
   "id": "5ed5e0fd-74b5-413d-9fda-bc23cd233157",
   "metadata": {},
   "outputs": [],
   "source": [
    "y = 4.5"
   ]
  },
  {
   "cell_type": "code",
   "execution_count": 182,
   "id": "44eefcd5-fae0-4e1e-9949-85670a7890d4",
   "metadata": {},
   "outputs": [
    {
     "name": "stdout",
     "output_type": "stream",
     "text": [
      "<class 'float'>\n"
     ]
    }
   ],
   "source": [
    "print(type(y))"
   ]
  },
  {
   "cell_type": "code",
   "execution_count": 183,
   "id": "ff0934eb-b10c-4456-b3de-3d0e91be2a45",
   "metadata": {},
   "outputs": [
    {
     "data": {
      "text/plain": [
       "4"
      ]
     },
     "execution_count": 183,
     "metadata": {},
     "output_type": "execute_result"
    }
   ],
   "source": [
    "y = int(y)\n",
    "y"
   ]
  },
  {
   "cell_type": "code",
   "execution_count": 184,
   "id": "15c70384-1c50-41fc-9c80-4b47c2804e97",
   "metadata": {},
   "outputs": [
    {
     "name": "stdout",
     "output_type": "stream",
     "text": [
      "<class 'int'>\n"
     ]
    }
   ],
   "source": [
    "print(type(y))"
   ]
  },
  {
   "cell_type": "code",
   "execution_count": 185,
   "id": "14601a6a-31ad-4f34-a941-295743f3afb2",
   "metadata": {},
   "outputs": [],
   "source": [
    "z = '8'"
   ]
  },
  {
   "cell_type": "code",
   "execution_count": 186,
   "id": "370ca5a1-97f0-4a81-9859-c033321edddf",
   "metadata": {},
   "outputs": [
    {
     "name": "stdout",
     "output_type": "stream",
     "text": [
      "<class 'str'>\n"
     ]
    }
   ],
   "source": [
    "print(type(z))"
   ]
  },
  {
   "cell_type": "code",
   "execution_count": 187,
   "id": "512b8748-9956-4228-8a85-1cf1dbeeeb6c",
   "metadata": {},
   "outputs": [
    {
     "data": {
      "text/plain": [
       "8"
      ]
     },
     "execution_count": 187,
     "metadata": {},
     "output_type": "execute_result"
    }
   ],
   "source": [
    "z = int(z)\n",
    "z"
   ]
  },
  {
   "cell_type": "code",
   "execution_count": 188,
   "id": "e0c0a3da-a687-4dfd-a462-6ab99e23e8bd",
   "metadata": {},
   "outputs": [
    {
     "name": "stdout",
     "output_type": "stream",
     "text": [
      "<class 'int'>\n"
     ]
    }
   ],
   "source": [
    "print(type(z))"
   ]
  },
  {
   "cell_type": "code",
   "execution_count": 189,
   "id": "8dd31038-a0e1-4eec-8d7e-e24958a5d353",
   "metadata": {},
   "outputs": [],
   "source": [
    "a = '12'"
   ]
  },
  {
   "cell_type": "code",
   "execution_count": 190,
   "id": "107d85b2-6608-4d71-961f-e808390e4bc2",
   "metadata": {},
   "outputs": [],
   "source": [
    "#a bir string"
   ]
  },
  {
   "cell_type": "code",
   "execution_count": 191,
   "id": "8df44274-a718-4926-9a4d-841d4d46f4a6",
   "metadata": {},
   "outputs": [
    {
     "data": {
      "text/plain": [
       "12.0"
      ]
     },
     "execution_count": 191,
     "metadata": {},
     "output_type": "execute_result"
    }
   ],
   "source": [
    "a = float(a)\n",
    "a"
   ]
  },
  {
   "cell_type": "code",
   "execution_count": 192,
   "id": "9e8c4254-9366-4368-90a8-c335d2f415ab",
   "metadata": {},
   "outputs": [
    {
     "name": "stdout",
     "output_type": "stream",
     "text": [
      "<class 'float'>\n"
     ]
    }
   ],
   "source": [
    "print(type(a))"
   ]
  },
  {
   "cell_type": "code",
   "execution_count": 193,
   "id": "330f1f14-9a84-44dc-a216-b0faea494a67",
   "metadata": {},
   "outputs": [],
   "source": [
    "b = '46.8'"
   ]
  },
  {
   "cell_type": "code",
   "execution_count": 194,
   "id": "f2c1eab9-d6ee-4482-965a-026064be7251",
   "metadata": {},
   "outputs": [
    {
     "name": "stdout",
     "output_type": "stream",
     "text": [
      "<class 'str'>\n"
     ]
    }
   ],
   "source": [
    "print(type(b))"
   ]
  },
  {
   "cell_type": "code",
   "execution_count": 195,
   "id": "51a3d3da-3165-4dda-818f-43dd96e3d676",
   "metadata": {},
   "outputs": [],
   "source": [
    "b = float(b)"
   ]
  },
  {
   "cell_type": "code",
   "execution_count": 196,
   "id": "88a25702-cac3-4756-a4e4-3f376c2db947",
   "metadata": {},
   "outputs": [
    {
     "name": "stdout",
     "output_type": "stream",
     "text": [
      "46.8\n"
     ]
    }
   ],
   "source": [
    "print(b)"
   ]
  },
  {
   "cell_type": "code",
   "execution_count": 197,
   "id": "906f2171-31b3-4b55-84e1-4ba2fb64a2cc",
   "metadata": {},
   "outputs": [
    {
     "data": {
      "text/plain": [
       "46"
      ]
     },
     "execution_count": 197,
     "metadata": {},
     "output_type": "execute_result"
    }
   ],
   "source": [
    "b = int(b)\n",
    "b"
   ]
  },
  {
   "cell_type": "code",
   "execution_count": 198,
   "id": "9239ded9-8cb0-44cf-89fd-88fbc97e0008",
   "metadata": {},
   "outputs": [
    {
     "name": "stdout",
     "output_type": "stream",
     "text": [
      "<class 'int'>\n"
     ]
    }
   ],
   "source": [
    "print(type(b))"
   ]
  },
  {
   "cell_type": "code",
   "execution_count": null,
   "id": "4499f7d5-e58a-4ceb-8206-c712a2b5a651",
   "metadata": {},
   "outputs": [],
   "source": []
  },
  {
   "cell_type": "code",
   "execution_count": 199,
   "id": "c95b6dd6-b18f-4046-bdc6-a10981b4ccf9",
   "metadata": {},
   "outputs": [],
   "source": [
    "#ödev2"
   ]
  },
  {
   "cell_type": "code",
   "execution_count": 200,
   "id": "15f485b0-c856-4bcb-8adb-7d41a162f85e",
   "metadata": {},
   "outputs": [],
   "source": [
    "nazli = 23 "
   ]
  },
  {
   "cell_type": "code",
   "execution_count": 201,
   "id": "3c069cb9-eae1-42e4-8c1f-49b2652f77b3",
   "metadata": {},
   "outputs": [],
   "source": [
    "ayse = 20"
   ]
  },
  {
   "cell_type": "code",
   "execution_count": 202,
   "id": "03fe1309-c150-4ca0-842d-58d07af97415",
   "metadata": {},
   "outputs": [],
   "source": [
    "kaan = 29"
   ]
  },
  {
   "cell_type": "code",
   "execution_count": 203,
   "id": "85bdd1e6-1ac0-4f33-977c-20823693d7ea",
   "metadata": {},
   "outputs": [
    {
     "data": {
      "text/plain": [
       "True"
      ]
     },
     "execution_count": 203,
     "metadata": {},
     "output_type": "execute_result"
    }
   ],
   "source": [
    "kaan > ayse\t"
   ]
  },
  {
   "cell_type": "code",
   "execution_count": 204,
   "id": "6325d351-dbd4-44e6-ab55-13c3b74dcc00",
   "metadata": {},
   "outputs": [
    {
     "data": {
      "text/plain": [
       "False"
      ]
     },
     "execution_count": 204,
     "metadata": {},
     "output_type": "execute_result"
    }
   ],
   "source": [
    "nazli == kaan"
   ]
  },
  {
   "cell_type": "code",
   "execution_count": 205,
   "id": "6d121a57-2a0a-40c5-bf02-3ba5e98c9cdb",
   "metadata": {},
   "outputs": [
    {
     "data": {
      "text/plain": [
       "False"
      ]
     },
     "execution_count": 205,
     "metadata": {},
     "output_type": "execute_result"
    }
   ],
   "source": [
    "ayse > nazli"
   ]
  },
  {
   "cell_type": "code",
   "execution_count": 206,
   "id": "e1b1451e-22c0-4a6c-926c-fe63d31b215f",
   "metadata": {},
   "outputs": [
    {
     "data": {
      "text/plain": [
       "True"
      ]
     },
     "execution_count": 206,
     "metadata": {},
     "output_type": "execute_result"
    }
   ],
   "source": [
    "nazli != ayse"
   ]
  },
  {
   "cell_type": "code",
   "execution_count": 207,
   "id": "65500068-7dba-4872-ad15-e2b604dc02b6",
   "metadata": {},
   "outputs": [
    {
     "data": {
      "text/plain": [
       "False"
      ]
     },
     "execution_count": 207,
     "metadata": {},
     "output_type": "execute_result"
    }
   ],
   "source": [
    "nazli > kaan"
   ]
  },
  {
   "cell_type": "code",
   "execution_count": 208,
   "id": "613011b0-0c95-43d3-9538-3d85d8c31436",
   "metadata": {},
   "outputs": [
    {
     "data": {
      "text/plain": [
       "True"
      ]
     },
     "execution_count": 208,
     "metadata": {},
     "output_type": "execute_result"
    }
   ],
   "source": [
    "kaan > nazli"
   ]
  },
  {
   "cell_type": "code",
   "execution_count": 209,
   "id": "a0c8d215-196f-4d01-88c2-54509074d1c1",
   "metadata": {},
   "outputs": [
    {
     "data": {
      "text/plain": [
       "False"
      ]
     },
     "execution_count": 209,
     "metadata": {},
     "output_type": "execute_result"
    }
   ],
   "source": [
    "not kaan > nazli"
   ]
  },
  {
   "cell_type": "code",
   "execution_count": 210,
   "id": "1be0a797-eeeb-41df-b045-df178c12f7b1",
   "metadata": {},
   "outputs": [
    {
     "data": {
      "text/plain": [
       "True"
      ]
     },
     "execution_count": 210,
     "metadata": {},
     "output_type": "execute_result"
    }
   ],
   "source": [
    "not ayse > 21"
   ]
  },
  {
   "cell_type": "code",
   "execution_count": 211,
   "id": "c92cfa57-dce3-4d51-aa69-7c9ed550c8a8",
   "metadata": {},
   "outputs": [
    {
     "data": {
      "text/plain": [
       "True"
      ]
     },
     "execution_count": 211,
     "metadata": {},
     "output_type": "execute_result"
    }
   ],
   "source": [
    "not ayse > kaan or nazli"
   ]
  },
  {
   "cell_type": "code",
   "execution_count": 212,
   "id": "d28aa60a-8b83-4d33-bbd4-5c9fac096e3f",
   "metadata": {},
   "outputs": [
    {
     "data": {
      "text/plain": [
       "False"
      ]
     },
     "execution_count": 212,
     "metadata": {},
     "output_type": "execute_result"
    }
   ],
   "source": [
    "not kaan > ayse\n"
   ]
  },
  {
   "cell_type": "code",
   "execution_count": 213,
   "id": "edcc0184-5451-449d-934e-19b409d3132f",
   "metadata": {},
   "outputs": [
    {
     "data": {
      "text/plain": [
       "True"
      ]
     },
     "execution_count": 213,
     "metadata": {},
     "output_type": "execute_result"
    }
   ],
   "source": [
    "nazli > ayse or kaan"
   ]
  },
  {
   "cell_type": "code",
   "execution_count": null,
   "id": "1b10add3-8ed3-40f9-a1ba-e108fc913542",
   "metadata": {},
   "outputs": [],
   "source": []
  },
  {
   "cell_type": "code",
   "execution_count": 214,
   "id": "ed447009-1952-420e-b641-c5b7485e14ca",
   "metadata": {},
   "outputs": [],
   "source": [
    "#ödev3"
   ]
  },
  {
   "cell_type": "code",
   "execution_count": 228,
   "id": "db027bef-3b86-4ba1-b902-bd3d5959445e",
   "metadata": {},
   "outputs": [
    {
     "name": "stdin",
     "output_type": "stream",
     "text": [
      "Değer 1i girin=  20\n"
     ]
    }
   ],
   "source": [
    "deger1 = input('Değer 1i girin= ')"
   ]
  },
  {
   "cell_type": "code",
   "execution_count": 230,
   "id": "4f187060-c18d-42d7-b5d4-9916c1854b0b",
   "metadata": {},
   "outputs": [
    {
     "name": "stdin",
     "output_type": "stream",
     "text": [
      "Değer 2i girin=  5\n"
     ]
    }
   ],
   "source": [
    "deger2 = input('Değer 2i girin= ')"
   ]
  },
  {
   "cell_type": "code",
   "execution_count": 231,
   "id": "881b0d10-a701-4d87-a46e-87bdc7a4414c",
   "metadata": {},
   "outputs": [],
   "source": [
    "deger1 = int(deger1)"
   ]
  },
  {
   "cell_type": "code",
   "execution_count": 232,
   "id": "207b082a-4f88-42ba-8aaa-b4a407828cf4",
   "metadata": {},
   "outputs": [],
   "source": [
    "deger2 = int(deger2)"
   ]
  },
  {
   "cell_type": "code",
   "execution_count": 233,
   "id": "af5ab167-0d24-4bc3-8569-5f3d33c67c97",
   "metadata": {},
   "outputs": [
    {
     "data": {
      "text/plain": [
       "25"
      ]
     },
     "execution_count": 233,
     "metadata": {},
     "output_type": "execute_result"
    }
   ],
   "source": [
    "deger1 + deger2"
   ]
  },
  {
   "cell_type": "code",
   "execution_count": 234,
   "id": "e3de331d-da19-4ee1-97c7-bf61d205aa86",
   "metadata": {},
   "outputs": [
    {
     "data": {
      "text/plain": [
       "15"
      ]
     },
     "execution_count": 234,
     "metadata": {},
     "output_type": "execute_result"
    }
   ],
   "source": [
    "deger1 - deger2"
   ]
  },
  {
   "cell_type": "code",
   "execution_count": 235,
   "id": "339f8caf-5784-4aa7-8e75-240e5daa268d",
   "metadata": {},
   "outputs": [
    {
     "data": {
      "text/plain": [
       "100"
      ]
     },
     "execution_count": 235,
     "metadata": {},
     "output_type": "execute_result"
    }
   ],
   "source": [
    "deger1 * deger2"
   ]
  },
  {
   "cell_type": "code",
   "execution_count": 236,
   "id": "20731410-40b2-4ca9-a0af-0ac6fab40489",
   "metadata": {},
   "outputs": [
    {
     "data": {
      "text/plain": [
       "0.25"
      ]
     },
     "execution_count": 236,
     "metadata": {},
     "output_type": "execute_result"
    }
   ],
   "source": [
    "deger2 / deger1"
   ]
  },
  {
   "cell_type": "code",
   "execution_count": 237,
   "id": "e89c0fde-a99f-4dae-8fa5-9daf4e9bf867",
   "metadata": {},
   "outputs": [
    {
     "data": {
      "text/plain": [
       "400"
      ]
     },
     "execution_count": 237,
     "metadata": {},
     "output_type": "execute_result"
    }
   ],
   "source": [
    "deger1 ** 2"
   ]
  },
  {
   "cell_type": "code",
   "execution_count": 238,
   "id": "f9521949-01c1-456a-9bd9-dda46b1902cb",
   "metadata": {},
   "outputs": [
    {
     "data": {
      "text/plain": [
       "25"
      ]
     },
     "execution_count": 238,
     "metadata": {},
     "output_type": "execute_result"
    }
   ],
   "source": [
    "deger2 ** 2"
   ]
  },
  {
   "cell_type": "code",
   "execution_count": 239,
   "id": "985ebc34-e2c9-4743-b126-d47b76884b6f",
   "metadata": {},
   "outputs": [
    {
     "data": {
      "text/plain": [
       "5"
      ]
     },
     "execution_count": 239,
     "metadata": {},
     "output_type": "execute_result"
    }
   ],
   "source": [
    "deger2 % deger1"
   ]
  },
  {
   "cell_type": "code",
   "execution_count": 240,
   "id": "973582c5-72b6-4433-8d18-0129f7928d93",
   "metadata": {},
   "outputs": [
    {
     "data": {
      "text/plain": [
       "0"
      ]
     },
     "execution_count": 240,
     "metadata": {},
     "output_type": "execute_result"
    }
   ],
   "source": [
    "deger2 // deger1"
   ]
  },
  {
   "cell_type": "code",
   "execution_count": null,
   "id": "31a38aa1-81ce-4883-86cd-f567950f7ced",
   "metadata": {},
   "outputs": [],
   "source": []
  },
  {
   "cell_type": "code",
   "execution_count": 241,
   "id": "bc6984d2-78d7-41e9-865d-51151eba038f",
   "metadata": {},
   "outputs": [],
   "source": [
    "#ödev4"
   ]
  },
  {
   "cell_type": "code",
   "execution_count": 242,
   "id": "c14e9396-f87b-451d-a2ac-25f7b87bb071",
   "metadata": {},
   "outputs": [
    {
     "name": "stdin",
     "output_type": "stream",
     "text": [
      "isminiz=  Duru\n"
     ]
    }
   ],
   "source": [
    "isim = input('isminiz= ')"
   ]
  },
  {
   "cell_type": "code",
   "execution_count": 244,
   "id": "52593b1e-fb86-4c07-b6f8-751d082d1a20",
   "metadata": {},
   "outputs": [
    {
     "name": "stdin",
     "output_type": "stream",
     "text": [
      "yaşınız=  17\n"
     ]
    }
   ],
   "source": [
    "yas = input('yaşınız= ')"
   ]
  },
  {
   "cell_type": "code",
   "execution_count": 245,
   "id": "faa18d00-ac22-4db2-a131-eceb507e4e9e",
   "metadata": {},
   "outputs": [
    {
     "name": "stdin",
     "output_type": "stream",
     "text": [
      "yaşadığınız şehir=  İstanbul\n"
     ]
    }
   ],
   "source": [
    "sehir = input('yaşadığınız şehir= ')"
   ]
  },
  {
   "cell_type": "code",
   "execution_count": 246,
   "id": "4ce2d404-467e-4258-9b3a-5f66a29c92b5",
   "metadata": {},
   "outputs": [
    {
     "name": "stdin",
     "output_type": "stream",
     "text": [
      "mesleğiniz=  öğrenci\n"
     ]
    }
   ],
   "source": [
    "meslek = input('mesleğiniz= ')"
   ]
  },
  {
   "cell_type": "code",
   "execution_count": 247,
   "id": "e3da0bc8-f36c-4f85-b192-29d9c88b192b",
   "metadata": {},
   "outputs": [
    {
     "name": "stdout",
     "output_type": "stream",
     "text": [
      "Duru\n"
     ]
    }
   ],
   "source": [
    "print(isim)"
   ]
  },
  {
   "cell_type": "code",
   "execution_count": 248,
   "id": "fa77f598-2949-4e36-a9c0-6010a42f2c9c",
   "metadata": {},
   "outputs": [
    {
     "name": "stdout",
     "output_type": "stream",
     "text": [
      "17\n"
     ]
    }
   ],
   "source": [
    "print(yas)"
   ]
  },
  {
   "cell_type": "code",
   "execution_count": 249,
   "id": "2ee88b6a-89c4-41c7-ad12-1669972fbc2f",
   "metadata": {},
   "outputs": [
    {
     "name": "stdout",
     "output_type": "stream",
     "text": [
      "İstanbul\n"
     ]
    }
   ],
   "source": [
    "print(sehir)"
   ]
  },
  {
   "cell_type": "code",
   "execution_count": 250,
   "id": "d5704a54-0b00-4693-a4a8-c620320857a9",
   "metadata": {},
   "outputs": [
    {
     "name": "stdout",
     "output_type": "stream",
     "text": [
      "öğrenci\n"
     ]
    }
   ],
   "source": [
    "print(meslek)"
   ]
  },
  {
   "cell_type": "code",
   "execution_count": null,
   "id": "192b6606-db9a-4a43-94c0-2196b3ec51a4",
   "metadata": {},
   "outputs": [],
   "source": []
  },
  {
   "cell_type": "code",
   "execution_count": 129,
   "id": "85ed941a-b4fb-45f4-bca9-a6c56f10f458",
   "metadata": {},
   "outputs": [],
   "source": [
    "#ödev5"
   ]
  },
  {
   "cell_type": "code",
   "execution_count": 130,
   "id": "4f3fa45d-59fa-45df-938d-5b190c3cddc1",
   "metadata": {},
   "outputs": [],
   "source": [
    "hikod = 'Hi-Kod Veri Bilimi Atölyesi'"
   ]
  },
  {
   "cell_type": "code",
   "execution_count": 142,
   "id": "bc8580e1-db16-43da-8b61-6ae45c33cc7b",
   "metadata": {},
   "outputs": [],
   "source": [
    "hikod = ['Hi-Kod', 'Veri', 'Bilimi', 'Atölyesi']"
   ]
  },
  {
   "cell_type": "code",
   "execution_count": 143,
   "id": "09bd96f5-1d5b-4533-a714-0df8960adbec",
   "metadata": {},
   "outputs": [
    {
     "name": "stdout",
     "output_type": "stream",
     "text": [
      "['Hi-Kod', 'Veri', 'Bilimi', 'Atölyesi']\n"
     ]
    }
   ],
   "source": [
    "print(hikod)"
   ]
  },
  {
   "cell_type": "code",
   "execution_count": 144,
   "id": "23ff969a-3feb-4dec-b9d7-7bd7a7183392",
   "metadata": {},
   "outputs": [
    {
     "name": "stdout",
     "output_type": "stream",
     "text": [
      "Hi-Kod\n"
     ]
    }
   ],
   "source": [
    "print(hikod[0])"
   ]
  },
  {
   "cell_type": "code",
   "execution_count": 145,
   "id": "c6e7580c-fe82-4a5d-9fc8-449978e64b2f",
   "metadata": {},
   "outputs": [
    {
     "name": "stdout",
     "output_type": "stream",
     "text": [
      "Veri\n"
     ]
    }
   ],
   "source": [
    "print(hikod[1])"
   ]
  },
  {
   "cell_type": "code",
   "execution_count": 146,
   "id": "63426f85-6151-4b61-a80a-81886b87e503",
   "metadata": {},
   "outputs": [
    {
     "name": "stdout",
     "output_type": "stream",
     "text": [
      "Bilimi\n"
     ]
    }
   ],
   "source": [
    "print(hikod[2])"
   ]
  },
  {
   "cell_type": "code",
   "execution_count": 147,
   "id": "ad25c9a7-fdb4-4887-aae8-4b4b2e2ffd7c",
   "metadata": {},
   "outputs": [
    {
     "name": "stdout",
     "output_type": "stream",
     "text": [
      "Atölyesi\n"
     ]
    }
   ],
   "source": [
    "print(hikod[-1])"
   ]
  },
  {
   "cell_type": "code",
   "execution_count": 151,
   "id": "c90d1e9d-a956-4ba7-9427-340e6ebd04ea",
   "metadata": {},
   "outputs": [
    {
     "name": "stdout",
     "output_type": "stream",
     "text": [
      "['Hi-Kod', 'Veri', 'Bilimi', 'Atölyesi']\n"
     ]
    }
   ],
   "source": [
    "print(hikod)"
   ]
  },
  {
   "cell_type": "code",
   "execution_count": 152,
   "id": "61bfc0ff-2ee3-4230-9291-83d2c14ff776",
   "metadata": {},
   "outputs": [],
   "source": [
    "hikod = 'Hi-Kod Veri Bilimi Atölyesi'"
   ]
  },
  {
   "cell_type": "code",
   "execution_count": 153,
   "id": "741f70b8-d2d1-4165-8051-29b5bcd51178",
   "metadata": {},
   "outputs": [],
   "source": [
    "hikod_buyuk = hikod.upper()"
   ]
  },
  {
   "cell_type": "code",
   "execution_count": 154,
   "id": "3a8cedaa-3c9c-49d3-9626-110e1f163bcb",
   "metadata": {},
   "outputs": [
    {
     "name": "stdout",
     "output_type": "stream",
     "text": [
      "HI-KOD VERI BILIMI ATÖLYESI\n"
     ]
    }
   ],
   "source": [
    "print(hikod_buyuk)"
   ]
  },
  {
   "cell_type": "code",
   "execution_count": 155,
   "id": "a73e0043-f6ec-4550-8e6e-f2ae15f14099",
   "metadata": {},
   "outputs": [],
   "source": [
    "hikod_kucuk = hikod.lower()"
   ]
  },
  {
   "cell_type": "code",
   "execution_count": 156,
   "id": "e77e89a7-83db-404d-a2c2-52e4d9929060",
   "metadata": {},
   "outputs": [
    {
     "name": "stdout",
     "output_type": "stream",
     "text": [
      "hi-kod veri bilimi atölyesi\n"
     ]
    }
   ],
   "source": [
    "print(hikod.lower())"
   ]
  },
  {
   "cell_type": "code",
   "execution_count": null,
   "id": "5d1f65e0-fe52-4ff5-85f5-1c1a6e011305",
   "metadata": {},
   "outputs": [],
   "source": []
  },
  {
   "cell_type": "code",
   "execution_count": 251,
   "id": "2e08f158-853c-4bcd-939b-d83af5bf8ce3",
   "metadata": {},
   "outputs": [],
   "source": [
    "sayilar = '0123456789'"
   ]
  },
  {
   "cell_type": "code",
   "execution_count": 252,
   "id": "601f9631-f451-4cc5-9111-3965bc60d8c6",
   "metadata": {},
   "outputs": [],
   "source": [
    "sayilar_listesi = [int(sayi) for sayi in sayilar]"
   ]
  },
  {
   "cell_type": "code",
   "execution_count": 253,
   "id": "95b39474-3909-404e-b18f-abc0a5dd61f6",
   "metadata": {},
   "outputs": [],
   "source": [
    "cift_sayilar = [sayi for sayi in sayilar_listesi if sayi % 2 == 0] \n",
    "tek_sayilar = [sayi for sayi in sayilar_listesi if sayi % 2 != 0]"
   ]
  },
  {
   "cell_type": "code",
   "execution_count": 173,
   "id": "3cdfcb97-8a1b-4d27-a31d-0983b39b3db5",
   "metadata": {},
   "outputs": [
    {
     "name": "stdout",
     "output_type": "stream",
     "text": [
      "[0, 2, 4, 6, 8]\n"
     ]
    }
   ],
   "source": [
    "print(cift_sayilar)"
   ]
  },
  {
   "cell_type": "code",
   "execution_count": 254,
   "id": "7021d4e5-7289-4d47-8e30-23383ef43d96",
   "metadata": {},
   "outputs": [
    {
     "name": "stdout",
     "output_type": "stream",
     "text": [
      "[1, 3, 5, 7, 9]\n"
     ]
    }
   ],
   "source": [
    "print(tek_sayilar)"
   ]
  },
  {
   "cell_type": "code",
   "execution_count": null,
   "id": "a89f41da-9971-4c06-82bf-e8cbcffdc945",
   "metadata": {},
   "outputs": [],
   "source": []
  }
 ],
 "metadata": {
  "kernelspec": {
   "display_name": "Python 3 (ipykernel)",
   "language": "python",
   "name": "python3"
  },
  "language_info": {
   "codemirror_mode": {
    "name": "ipython",
    "version": 3
   },
   "file_extension": ".py",
   "mimetype": "text/x-python",
   "name": "python",
   "nbconvert_exporter": "python",
   "pygments_lexer": "ipython3",
   "version": "3.12.4"
  }
 },
 "nbformat": 4,
 "nbformat_minor": 5
}
